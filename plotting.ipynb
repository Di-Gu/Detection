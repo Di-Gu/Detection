{
 "cells": [
  {
   "cell_type": "code",
   "execution_count": 3,
   "metadata": {},
   "outputs": [],
   "source": [
    "import inspect\n",
    "import os\n",
    "import random\n",
    "import sys\n",
    "import pandas as pd\n",
    "import numpy as np\n",
    "import matplotlib.pyplot as plt"
   ]
  },
  {
   "cell_type": "code",
   "execution_count": 2,
   "metadata": {},
   "outputs": [],
   "source": [
    "def extract_log(log_file,new_log_file,key_word):\n",
    "    with open(log_file,  encoding='utf-16', mode = 'r') as f:\n",
    "        with open(new_log_file, 'w') as train_log:\n",
    "            for line in f:\n",
    "                if 'Syncing' in line:\n",
    "                    continue\n",
    "                if 'nan' in line:\n",
    "                    continue\n",
    "                if key_word in line:\n",
    "                    train_log.write(line)\n",
    "    f.close()\n",
    "    train_log.close()"
   ]
  },
  {
   "cell_type": "code",
   "execution_count": null,
   "metadata": {},
   "outputs": [],
   "source": [
    "extract_log('train_yolov3_fine_tuning.log','train_log_loss.txt','images')\n",
    "extract_log('train_yolov3_fine_tuning.log','train_log_iou.txt','IOU')"
   ]
  },
  {
   "cell_type": "code",
   "execution_count": 7,
   "metadata": {},
   "outputs": [
    {
     "name": "stdout",
     "output_type": "stream",
     "text": [
      "40\n"
     ]
    }
   ],
   "source": [
    "count = len(open('faster_loss.txt').readlines())\n",
    "print(count)"
   ]
  },
  {
   "cell_type": "code",
   "execution_count": 26,
   "metadata": {},
   "outputs": [],
   "source": [
    "with open('train_log_loss.txt', 'r') as file :\n",
    "    filedata = file.read()\n",
    "# Replace the target string\n",
    "filedata = filedata.replace(':', ',')\n",
    "# Write the file out again\n",
    "with open('file.txt', 'w') as file:\n",
    "    file.write(filedata)"
   ]
  },
  {
   "cell_type": "code",
   "execution_count": 48,
   "metadata": {},
   "outputs": [],
   "source": [
    "lines = open('file.txt').readlines()\n",
    "open('newfile.txt', 'w').writelines(lines[250:-6000])"
   ]
  },
  {
   "cell_type": "code",
   "execution_count": 51,
   "metadata": {},
   "outputs": [
    {
     "name": "stdout",
     "output_type": "stream",
     "text": [
      "total = 1148\n",
      "\n",
      "start = 200, end = 10990\n",
      "\n"
     ]
    },
    {
     "data": {
      "text/plain": [
       "Text(0.5,0,'batches')"
      ]
     },
     "execution_count": 51,
     "metadata": {},
     "output_type": "execute_result"
    },
    {
     "data": {
      "image/png": "[encoded data removed]",
      "text/plain": [
       "<Figure size 432x288 with 1 Axes>"
      ]
     },
     "metadata": {
      "needs_background": "light"
     },
     "output_type": "display_data"
    }
   ],
   "source": [
    "import pandas as pd\n",
    "import numpy as np\n",
    "import matplotlib.pyplot as plt\n",
    " \n",
    "lines = 17000\n",
    "start_ite = 200\n",
    "end_ite = 11000 \n",
    "step = 10\n",
    "igore = 0 \n",
    "    \n",
    "data_path =  'newfile.txt'\n",
    "# result_path = 'avg_loss' \n",
    "\n",
    "names = ['number','loss', 'avg', 'rate', 'seconds', 'images']\n",
    "result = pd.read_csv(data_path, skiprows=[x for x in range(lines) if (x<lines*1.0/((end_ite - start_ite)*1.0)*igore or x%step!=9)], error_bad_lines=False, names=names)\n",
    "result.head()\n",
    "for name in names:\n",
    "    result[name] = result[name].astype(str).str.split(' ').str.get(1)\n",
    "    \n",
    "result.head()\n",
    "result.tail()\n",
    " \n",
    "for name in names:\n",
    "    result[name] = pd.to_numeric(result[name])\n",
    "result.dtypes\n",
    "# print(result['avg'].values)\n",
    " \n",
    "fig = plt.figure()\n",
    "ax = fig.add_subplot(1, 1, 1)\n",
    "\n",
    "x_num = len(result['avg'].values)\n",
    "tmp = (end_ite-start_ite - igore)/(x_num*1.0)\n",
    "x = []\n",
    "for i in range(x_num):\n",
    "    x.append(i*tmp + start_ite + igore)\n",
    "#print(x)\n",
    "print('total = %d\\n' %x_num)\n",
    "print('start = %d, end = %d\\n' %(x[0], x[-1]))\n",
    " \n",
    "ax.plot(x, result['avg'].values, label='avg_loss')\n",
    "#ax.plot(result['loss'].values, label='loss')\n",
    "# plt.grid()\n",
    "ax.legend(loc = 'best')\n",
    "ax.set_title('YOLOv3 Loss')\n",
    "ax.set_xlabel('batches')\n",
    "# fig.savefig(result_path)\n",
    "#fig.savefig('loss')"
   ]
  },
  {
   "cell_type": "code",
   "execution_count": null,
   "metadata": {},
   "outputs": [],
   "source": [
    "with open('train_log_iou.txt', 'r') as file :\n",
    "    filedata = file.read()\n",
    "# Replace the target string\n",
    "filedata = filedata.replace(':', ',')\n",
    "# Write the file out again\n",
    "with open('ioufile.txt', 'w') as file:\n",
    "    file.write(filedata)"
   ]
  },
  {
   "cell_type": "code",
   "execution_count": 62,
   "metadata": {},
   "outputs": [
    {
     "name": "stdout",
     "output_type": "stream",
     "text": [
      "total = 7230\n",
      "\n",
      "start = 0, end = 50193\n",
      "\n"
     ]
    },
    {
     "data": {
      "text/plain": [
       "Text(0.5,0,'batches')"
      ]
     },
     "execution_count": 62,
     "metadata": {},
     "output_type": "execute_result"
    },
    {
     "data": {
      "image/png": "[encoded data removed]",
      "text/plain": [
       "<Figure size 432x288 with 1 Axes>"
      ]
     },
     "metadata": {
      "needs_background": "light"
     },
     "output_type": "display_data"
    }
   ],
   "source": [
    "import pandas as pd\n",
    "import numpy as np\n",
    "import matplotlib.pyplot as plt\n",
    " \n",
    "lines = 620000\n",
    "step = 1000\n",
    "start_ite = 0\n",
    "end_ite = 50200\n",
    "igore = 0\n",
    "data_path =  'train_log_iou.txt' \n",
    "# result_path = 'Region Avg IOU' \n",
    " \n",
    "names = ['Region Avg IOU', 'Class', 'Obj', 'No Obj', '.5_Recall', '.7_Recall', 'count']\n",
    "#result = pd.read_csv('log_iou.txt', skiprows=[x for x in range(lines) if (x%10==0 or x%10==9)]\\\n",
    "result = pd.read_csv(data_path, skiprows=[x for x in range(lines) if (x<lines*1.0/((end_ite - start_ite)*1.0)*igore or x%step!=0)]\\\n",
    ", error_bad_lines=False, names=names)\n",
    "result.head()\n",
    " \n",
    "for name in names:\n",
    "    result[name] = result[name].str.split(': ').str.get(1)\n",
    "result.head()\n",
    "result.tail()\n",
    "for name in names:\n",
    "    result[name] = pd.to_numeric(result[name])\n",
    "result.dtypes\n",
    " \n",
    "x_num = len(result['Region Avg IOU'].values)\n",
    "tmp = (end_ite-start_ite - igore)/(x_num*1.0)\n",
    "x = []\n",
    "for i in range(x_num):\n",
    "    x.append(i*tmp + start_ite + igore)\n",
    "#print(x)\n",
    "print('total = %d\\n' %x_num)\n",
    "print('start = %d, end = %d\\n' %(x[0], x[-1]))\n",
    " \n",
    "fig = plt.figure()\n",
    "ax = fig.add_subplot(1,1,1)\n",
    "ax.plot(x, result['Region Avg IOU'].values, label='Region Avg IOU')\n",
    "#ax.plot(result['Avg Recall'].values, label='Avg Recall')\n",
    "# plt.grid()\n",
    "ax.legend(loc='best')\n",
    "ax.set_title('The Region Avg IOU curves')\n",
    "ax.set_xlabel('batches')\n",
    "# fig.savefig(result_path)"
   ]
  },
  {
   "cell_type": "code",
   "execution_count": 5,
   "metadata": {},
   "outputs": [],
   "source": [
    "def extract_log_(log_file,new_log_file,key_word):\n",
    "    with open(log_file,  encoding='utf-8', mode = 'r') as f:\n",
    "        with open(new_log_file, 'w') as train_log:\n",
    "            for line in f:\n",
    "                if 'Syncing' in line:\n",
    "                    continue\n",
    "                if 'nan' in line:\n",
    "                    continue\n",
    "                if key_word in line:\n",
    "                    train_log.write(line)\n",
    "    f.close()\n",
    "    train_log.close()"
   ]
  },
  {
   "cell_type": "code",
   "execution_count": 6,
   "metadata": {},
   "outputs": [],
   "source": [
    "extract_log_('log1.txt','faster_loss.txt','loss')"
   ]
  },
  {
   "cell_type": "code",
   "execution_count": 10,
   "metadata": {},
   "outputs": [
    {
     "data": {
      "text/html": [
       "<div>\n",
       "<style scoped>\n",
       "    .dataframe tbody tr th:only-of-type {\n",
       "        vertical-align: middle;\n",
       "    }\n",
       "\n",
       "    .dataframe tbody tr th {\n",
       "        vertical-align: top;\n",
       "    }\n",
       "\n",
       "    .dataframe thead th {\n",
       "        text-align: right;\n",
       "    }\n",
       "</style>\n",
       "<table border=\"1\" class=\"dataframe\">\n",
       "  <thead>\n",
       "    <tr style=\"text-align: right;\">\n",
       "      <th></th>\n",
       "      <th>loss</th>\n",
       "      <th>lr</th>\n",
       "    </tr>\n",
       "  </thead>\n",
       "  <tbody>\n",
       "    <tr>\n",
       "      <th>0</th>\n",
       "      <td>[session 1][epoch  1][iter    0/ 140] loss: 3....</td>\n",
       "      <td>lr: 4.00e-03</td>\n",
       "    </tr>\n",
       "    <tr>\n",
       "      <th>1</th>\n",
       "      <td>[session 1][epoch  1][iter  100/ 140] loss: 1....</td>\n",
       "      <td>lr: 4.00e-03</td>\n",
       "    </tr>\n",
       "    <tr>\n",
       "      <th>2</th>\n",
       "      <td>[session 1][epoch  2][iter    0/ 140] loss: 1....</td>\n",
       "      <td>lr: 4.00e-03</td>\n",
       "    </tr>\n",
       "    <tr>\n",
       "      <th>3</th>\n",
       "      <td>[session 1][epoch  2][iter  100/ 140] loss: 1....</td>\n",
       "      <td>lr: 4.00e-03</td>\n",
       "    </tr>\n",
       "    <tr>\n",
       "      <th>4</th>\n",
       "      <td>[session 1][epoch  3][iter    0/ 140] loss: 1....</td>\n",
       "      <td>lr: 4.00e-03</td>\n",
       "    </tr>\n",
       "  </tbody>\n",
       "</table>\n",
       "</div>"
      ],
      "text/plain": [
       "                                                loss             lr\n",
       "0  [session 1][epoch  1][iter    0/ 140] loss: 3....   lr: 4.00e-03\n",
       "1  [session 1][epoch  1][iter  100/ 140] loss: 1....   lr: 4.00e-03\n",
       "2  [session 1][epoch  2][iter    0/ 140] loss: 1....   lr: 4.00e-03\n",
       "3  [session 1][epoch  2][iter  100/ 140] loss: 1....   lr: 4.00e-03\n",
       "4  [session 1][epoch  3][iter    0/ 140] loss: 1....   lr: 4.00e-03"
      ]
     },
     "execution_count": 10,
     "metadata": {},
     "output_type": "execute_result"
    }
   ],
   "source": [
    "names = ['loss', 'lr']\n",
    "result = pd.read_csv('faster_loss.txt',error_bad_lines=False, names=names)\n",
    "result.head()"
   ]
  },
  {
   "cell_type": "code",
   "execution_count": 11,
   "metadata": {},
   "outputs": [
    {
     "data": {
      "text/html": [
       "<div>\n",
       "<style scoped>\n",
       "    .dataframe tbody tr th:only-of-type {\n",
       "        vertical-align: middle;\n",
       "    }\n",
       "\n",
       "    .dataframe tbody tr th {\n",
       "        vertical-align: top;\n",
       "    }\n",
       "\n",
       "    .dataframe thead th {\n",
       "        text-align: right;\n",
       "    }\n",
       "</style>\n",
       "<table border=\"1\" class=\"dataframe\">\n",
       "  <thead>\n",
       "    <tr style=\"text-align: right;\">\n",
       "      <th></th>\n",
       "      <th>loss</th>\n",
       "      <th>lr</th>\n",
       "    </tr>\n",
       "  </thead>\n",
       "  <tbody>\n",
       "    <tr>\n",
       "      <th>0</th>\n",
       "      <td>3.4631</td>\n",
       "      <td>4.00e-03</td>\n",
       "    </tr>\n",
       "    <tr>\n",
       "      <th>1</th>\n",
       "      <td>1.4433</td>\n",
       "      <td>4.00e-03</td>\n",
       "    </tr>\n",
       "    <tr>\n",
       "      <th>2</th>\n",
       "      <td>1.0637</td>\n",
       "      <td>4.00e-03</td>\n",
       "    </tr>\n",
       "    <tr>\n",
       "      <th>3</th>\n",
       "      <td>1.0997</td>\n",
       "      <td>4.00e-03</td>\n",
       "    </tr>\n",
       "    <tr>\n",
       "      <th>4</th>\n",
       "      <td>1.1379</td>\n",
       "      <td>4.00e-03</td>\n",
       "    </tr>\n",
       "  </tbody>\n",
       "</table>\n",
       "</div>"
      ],
      "text/plain": [
       "     loss        lr\n",
       "0  3.4631  4.00e-03\n",
       "1  1.4433  4.00e-03\n",
       "2  1.0637  4.00e-03\n",
       "3  1.0997  4.00e-03\n",
       "4  1.1379  4.00e-03"
      ]
     },
     "execution_count": 11,
     "metadata": {},
     "output_type": "execute_result"
    }
   ],
   "source": [
    "for name in names:\n",
    "    result[name] = result[name].str.split(': ').str.get(1)\n",
    "result.head()"
   ]
  },
  {
   "cell_type": "code",
   "execution_count": 13,
   "metadata": {},
   "outputs": [
    {
     "data": {
      "text/plain": [
       "loss    float64\n",
       "lr      float64\n",
       "dtype: object"
      ]
     },
     "execution_count": 13,
     "metadata": {},
     "output_type": "execute_result"
    }
   ],
   "source": [
    "for name in names:\n",
    "    result[name] = pd.to_numeric(result[name])\n",
    "result.dtypes"
   ]
  },
  {
   "cell_type": "code",
   "execution_count": 14,
   "metadata": {},
   "outputs": [
    {
     "data": {
      "text/plain": [
       "Text(0.5,0,'epoches')"
      ]
     },
     "execution_count": 14,
     "metadata": {},
     "output_type": "execute_result"
    },
    {
     "data": {
      "image/png": "[encoded data removed]",
      "text/plain": [
       "<Figure size 432x288 with 1 Axes>"
      ]
     },
     "metadata": {
      "needs_background": "light"
     },
     "output_type": "display_data"
    }
   ],
   "source": [
    "fig = plt.figure()\n",
    "ax = fig.add_subplot(1,1,1)\n",
    "ax.plot(result['loss'].values, label='loss')\n",
    "#ax.plot(result['Avg Recall'].values, label='Avg Recall')\n",
    "# plt.grid()\n",
    "ax.legend(loc='best')\n",
    "ax.set_title('Faster RCNN loss')\n",
    "ax.set_xlabel('epoches')"
   ]
  }
 ],
 "metadata": {
  "kernelspec": {
   "display_name": "Python 3",
   "language": "python",
   "name": "python3"
  },
  "language_info": {
   "codemirror_mode": {
    "name": "ipython",
    "version": 3
   },
   "file_extension": ".py",
   "mimetype": "text/x-python",
   "name": "python",
   "nbconvert_exporter": "python",
   "pygments_lexer": "ipython3",
   "version": "3.7.0"
  }
 },
 "nbformat": 4,
 "nbformat_minor": 2
}
